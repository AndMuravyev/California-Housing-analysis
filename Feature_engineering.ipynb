{
 "cells":[
  {
   "cell_type":"markdown",
   "source":[
    "# Анализ датасета *Fetch California Housing*\n",
    "\n",
    "- ## Работа с выбросами, корреляцией; математические преобразования признаков;\n",
    "\n",
    "- ## Оценка важности предварительной работы с данными."
   ],
   "attachments":{
    
   },
   "metadata":{
    "datalore":{
     "node_id":"btzmzALYsI5EZN4veG2rSK",
     "type":"MD",
     "hide_input_from_viewers":false,
     "hide_output_from_viewers":false
    }
   }
  },
  {
   "cell_type":"code",
   "source":[
    "import pandas as pd\n",
    "pd.options.mode.chained_assignment = None\n",
    "import numpy as np\n",
    "from matplotlib import pyplot as plt\n",
    "%matplotlib inline\n",
    "import seaborn as sns\n",
    "from sklearn.datasets import fetch_california_housing\n",
    "from sklearn.model_selection import train_test_split\n",
    "from sklearn.linear_model import LinearRegression\n",
    "from sklearn.metrics import mean_squared_error  # for RMSE\n",
    "from sklearn.metrics import r2_score  # R2"
   ],
   "execution_count":88,
   "outputs":[
    
   ],
   "metadata":{
    "datalore":{
     "node_id":"xT30lBtdbJ0ucfcfB45XOW",
     "type":"CODE",
     "hide_input_from_viewers":false,
     "hide_output_from_viewers":false
    }
   }
  },
  {
   "cell_type":"markdown",
   "source":[
    "## 1. Загрузка датасета"
   ],
   "attachments":{
    
   },
   "metadata":{
    "datalore":{
     "node_id":"aiACN7lkYdrGK2OOqtnD9N",
     "type":"MD",
     "hide_input_from_viewers":false,
     "hide_output_from_viewers":false
    }
   }
  },
  {
   "cell_type":"code",
   "source":[
    "bunch = fetch_california_housing(as_frame=True)  # Загружаем данные сразу в формате Pandas df\n",
    "print(bunch.DESCR)"
   ],
   "execution_count":89,
   "outputs":[
    {
     "name":"stdout",
     "text":[
      ".. _california_housing_dataset:\n",
      "\n",
      "California Housing dataset\n",
      "--------------------------\n",
      "\n",
      "**Data Set Characteristics:**\n",
      "\n",
      "    :Number of Instances: 20640\n",
      "\n",
      "    :Number of Attributes: 8 numeric, predictive attributes and the target\n",
      "\n",
      "    :Attribute Information:\n",
      "        - MedInc        median income in block group\n",
      "        - HouseAge      median house age in block group\n",
      "        - AveRooms      average number of rooms per household\n",
      "        - AveBedrms     average number of bedrooms per household\n",
      "        - Population    block group population\n",
      "        - AveOccup      average number of household members\n",
      "        - Latitude      block group latitude\n",
      "        - Longitude     block group longitude\n",
      "\n",
      "    :Missing Attribute Values: None\n",
      "\n",
      "This dataset was obtained from the StatLib repository.\n",
      "https:\/\/www.dcc.fc.up.pt\/~ltorgo\/Regression\/cal_housing.html\n",
      "\n",
      "The target variable is the median house value for California districts,\n",
      "expressed in hundreds of thousands of dollars ($100,000).\n",
      "\n",
      "This dataset was derived from the 1990 U.S. census, using one row per census\n",
      "block group. A block group is the smallest geographical unit for which the U.S.\n",
      "Census Bureau publishes sample data (a block group typically has a population\n",
      "of 600 to 3,000 people).\n",
      "\n",
      "An household is a group of people residing within a home. Since the average\n",
      "number of rooms and bedrooms in this dataset are provided per household, these\n",
      "columns may take surpinsingly large values for block groups with few households\n",
      "and many empty houses, such as vacation resorts.\n",
      "\n",
      "It can be downloaded\/loaded using the\n",
      ":func:`sklearn.datasets.fetch_california_housing` function.\n",
      "\n",
      ".. topic:: References\n",
      "\n",
      "    - Pace, R. Kelley and Ronald Barry, Sparse Spatial Autoregressions,\n",
      "      Statistics and Probability Letters, 33 (1997) 291-297\n",
      "\n"
     ],
     "output_type":"stream"
    }
   ],
   "metadata":{
    "datalore":{
     "node_id":"TiNhc2v73ORhzt425lIm0d",
     "type":"CODE",
     "hide_input_from_viewers":false,
     "hide_output_from_viewers":false
    }
   }
  },
  {
   "cell_type":"markdown",
   "source":[
    "Прочитав описание, делаем вывод, что целевая переменная - среднее значение стоимости жилья для определённого района"
   ],
   "attachments":{
    
   },
   "metadata":{
    "datalore":{
     "node_id":"rQO195UGp5OLCCQPdjLbQz",
     "type":"MD",
     "hide_input_from_viewers":false,
     "hide_output_from_viewers":false
    }
   }
  },
  {
   "cell_type":"code",
   "source":[
    "df = bunch.data\n",
    "df[bunch.target_names[0]] = bunch.target\n",
    "df.head()"
   ],
   "execution_count":90,
   "outputs":[
    {
     "data":{
      "text\/html":[
       "<div>\n",
       "<style scoped>\n",
       "    .dataframe tbody tr th:only-of-type {\n",
       "        vertical-align: middle;\n",
       "    }\n",
       "\n",
       "    .dataframe tbody tr th {\n",
       "        vertical-align: top;\n",
       "    }\n",
       "\n",
       "    .dataframe thead th {\n",
       "        text-align: right;\n",
       "    }\n",
       "<\/style>\n",
       "<table border=\"1\" class=\"dataframe\">\n",
       "  <thead>\n",
       "    <tr style=\"text-align: right;\">\n",
       "      <th><\/th>\n",
       "      <th>MedInc<\/th>\n",
       "      <th>HouseAge<\/th>\n",
       "      <th>AveRooms<\/th>\n",
       "      <th>AveBedrms<\/th>\n",
       "      <th>Population<\/th>\n",
       "      <th>AveOccup<\/th>\n",
       "      <th>Latitude<\/th>\n",
       "      <th>Longitude<\/th>\n",
       "      <th>MedHouseVal<\/th>\n",
       "    <\/tr>\n",
       "  <\/thead>\n",
       "  <tbody>\n",
       "    <tr>\n",
       "      <th>0<\/th>\n",
       "      <td>8.3252<\/td>\n",
       "      <td>41.0<\/td>\n",
       "      <td>6.984127<\/td>\n",
       "      <td>1.023810<\/td>\n",
       "      <td>322.0<\/td>\n",
       "      <td>2.555556<\/td>\n",
       "      <td>37.88<\/td>\n",
       "      <td>-122.23<\/td>\n",
       "      <td>4.526<\/td>\n",
       "    <\/tr>\n",
       "    <tr>\n",
       "      <th>1<\/th>\n",
       "      <td>8.3014<\/td>\n",
       "      <td>21.0<\/td>\n",
       "      <td>6.238137<\/td>\n",
       "      <td>0.971880<\/td>\n",
       "      <td>2401.0<\/td>\n",
       "      <td>2.109842<\/td>\n",
       "      <td>37.86<\/td>\n",
       "      <td>-122.22<\/td>\n",
       "      <td>3.585<\/td>\n",
       "    <\/tr>\n",
       "    <tr>\n",
       "      <th>2<\/th>\n",
       "      <td>7.2574<\/td>\n",
       "      <td>52.0<\/td>\n",
       "      <td>8.288136<\/td>\n",
       "      <td>1.073446<\/td>\n",
       "      <td>496.0<\/td>\n",
       "      <td>2.802260<\/td>\n",
       "      <td>37.85<\/td>\n",
       "      <td>-122.24<\/td>\n",
       "      <td>3.521<\/td>\n",
       "    <\/tr>\n",
       "    <tr>\n",
       "      <th>3<\/th>\n",
       "      <td>5.6431<\/td>\n",
       "      <td>52.0<\/td>\n",
       "      <td>5.817352<\/td>\n",
       "      <td>1.073059<\/td>\n",
       "      <td>558.0<\/td>\n",
       "      <td>2.547945<\/td>\n",
       "      <td>37.85<\/td>\n",
       "      <td>-122.25<\/td>\n",
       "      <td>3.413<\/td>\n",
       "    <\/tr>\n",
       "    <tr>\n",
       "      <th>4<\/th>\n",
       "      <td>3.8462<\/td>\n",
       "      <td>52.0<\/td>\n",
       "      <td>6.281853<\/td>\n",
       "      <td>1.081081<\/td>\n",
       "      <td>565.0<\/td>\n",
       "      <td>2.181467<\/td>\n",
       "      <td>37.85<\/td>\n",
       "      <td>-122.25<\/td>\n",
       "      <td>3.422<\/td>\n",
       "    <\/tr>\n",
       "  <\/tbody>\n",
       "<\/table>\n",
       "<\/div>"
      ]
     },
     "metadata":{
      
     },
     "output_type":"display_data"
    }
   ],
   "metadata":{
    "datalore":{
     "node_id":"p7fyMwdt37BvR5GtMiTuU3",
     "type":"CODE",
     "hide_input_from_viewers":false,
     "hide_output_from_viewers":false
    }
   }
  },
  {
   "cell_type":"markdown",
   "source":[
    "## 2. Первичный анализ датасета"
   ],
   "attachments":{
    
   },
   "metadata":{
    "datalore":{
     "node_id":"GYyiRmgtTLcPz1YcoUml27",
     "type":"MD",
     "hide_input_from_viewers":false,
     "hide_output_from_viewers":false
    }
   }
  },
  {
   "cell_type":"code",
   "source":[
    "df.info()"
   ],
   "execution_count":91,
   "outputs":[
    {
     "name":"stdout",
     "text":[
      "<class 'pandas.core.frame.DataFrame'>\n",
      "RangeIndex: 20640 entries, 0 to 20639\n",
      "Data columns (total 9 columns):\n",
      " #   Column       Non-Null Count  Dtype  \n",
      "---  ------       --------------  -----  \n",
      " 0   MedInc       20640 non-null  float64\n",
      " 1   HouseAge     20640 non-null  float64\n",
      " 2   AveRooms     20640 non-null  float64\n",
      " 3   AveBedrms    20640 non-null  float64\n",
      " 4   Population   20640 non-null  float64\n",
      " 5   AveOccup     20640 non-null  float64\n",
      " 6   Latitude     20640 non-null  float64\n",
      " 7   Longitude    20640 non-null  float64\n",
      " 8   MedHouseVal  20640 non-null  float64\n",
      "dtypes: float64(9)\n",
      "memory usage: 1.4 MB\n"
     ],
     "output_type":"stream"
    }
   ],
   "metadata":{
    "datalore":{
     "node_id":"7f7loh07Hf5ymSkxGYpbIl",
     "type":"CODE",
     "hide_input_from_viewers":false,
     "hide_output_from_viewers":false
    }
   }
  },
  {
   "cell_type":"markdown",
   "source":[
    "Видим, что в датасете нет пропущенных значений (*и это замечательно*).\n",
    "Все признаки представлены численными значениями."
   ],
   "attachments":{
    
   },
   "metadata":{
    "datalore":{
     "node_id":"d3vYI5Zs1TMy1ctedbRmgz",
     "type":"MD",
     "hide_input_from_viewers":false,
     "hide_output_from_viewers":false
    }
   }
  },
  {
   "cell_type":"code",
   "source":[
    "df.describe()"
   ],
   "execution_count":92,
   "outputs":[
    {
     "data":{
      "text\/html":[
       "<div>\n",
       "<style scoped>\n",
       "    .dataframe tbody tr th:only-of-type {\n",
       "        vertical-align: middle;\n",
       "    }\n",
       "\n",
       "    .dataframe tbody tr th {\n",
       "        vertical-align: top;\n",
       "    }\n",
       "\n",
       "    .dataframe thead th {\n",
       "        text-align: right;\n",
       "    }\n",
       "<\/style>\n",
       "<table border=\"1\" class=\"dataframe\">\n",
       "  <thead>\n",
       "    <tr style=\"text-align: right;\">\n",
       "      <th><\/th>\n",
       "      <th>MedInc<\/th>\n",
       "      <th>HouseAge<\/th>\n",
       "      <th>AveRooms<\/th>\n",
       "      <th>AveBedrms<\/th>\n",
       "      <th>Population<\/th>\n",
       "      <th>AveOccup<\/th>\n",
       "      <th>Latitude<\/th>\n",
       "      <th>Longitude<\/th>\n",
       "      <th>MedHouseVal<\/th>\n",
       "    <\/tr>\n",
       "  <\/thead>\n",
       "  <tbody>\n",
       "    <tr>\n",
       "      <th>count<\/th>\n",
       "      <td>20640.000000<\/td>\n",
       "      <td>20640.000000<\/td>\n",
       "      <td>20640.000000<\/td>\n",
       "      <td>20640.000000<\/td>\n",
       "      <td>20640.000000<\/td>\n",
       "      <td>20640.000000<\/td>\n",
       "      <td>20640.000000<\/td>\n",
       "      <td>20640.000000<\/td>\n",
       "      <td>20640.000000<\/td>\n",
       "    <\/tr>\n",
       "    <tr>\n",
       "      <th>mean<\/th>\n",
       "      <td>3.870671<\/td>\n",
       "      <td>28.639486<\/td>\n",
       "      <td>5.429000<\/td>\n",
       "      <td>1.096675<\/td>\n",
       "      <td>1425.476744<\/td>\n",
       "      <td>3.070655<\/td>\n",
       "      <td>35.631861<\/td>\n",
       "      <td>-119.569704<\/td>\n",
       "      <td>2.068558<\/td>\n",
       "    <\/tr>\n",
       "    <tr>\n",
       "      <th>std<\/th>\n",
       "      <td>1.899822<\/td>\n",
       "      <td>12.585558<\/td>\n",
       "      <td>2.474173<\/td>\n",
       "      <td>0.473911<\/td>\n",
       "      <td>1132.462122<\/td>\n",
       "      <td>10.386050<\/td>\n",
       "      <td>2.135952<\/td>\n",
       "      <td>2.003532<\/td>\n",
       "      <td>1.153956<\/td>\n",
       "    <\/tr>\n",
       "    <tr>\n",
       "      <th>min<\/th>\n",
       "      <td>0.499900<\/td>\n",
       "      <td>1.000000<\/td>\n",
       "      <td>0.846154<\/td>\n",
       "      <td>0.333333<\/td>\n",
       "      <td>3.000000<\/td>\n",
       "      <td>0.692308<\/td>\n",
       "      <td>32.540000<\/td>\n",
       "      <td>-124.350000<\/td>\n",
       "      <td>0.149990<\/td>\n",
       "    <\/tr>\n",
       "    <tr>\n",
       "      <th>25%<\/th>\n",
       "      <td>2.563400<\/td>\n",
       "      <td>18.000000<\/td>\n",
       "      <td>4.440716<\/td>\n",
       "      <td>1.006079<\/td>\n",
       "      <td>787.000000<\/td>\n",
       "      <td>2.429741<\/td>\n",
       "      <td>33.930000<\/td>\n",
       "      <td>-121.800000<\/td>\n",
       "      <td>1.196000<\/td>\n",
       "    <\/tr>\n",
       "    <tr>\n",
       "      <th>50%<\/th>\n",
       "      <td>3.534800<\/td>\n",
       "      <td>29.000000<\/td>\n",
       "      <td>5.229129<\/td>\n",
       "      <td>1.048780<\/td>\n",
       "      <td>1166.000000<\/td>\n",
       "      <td>2.818116<\/td>\n",
       "      <td>34.260000<\/td>\n",
       "      <td>-118.490000<\/td>\n",
       "      <td>1.797000<\/td>\n",
       "    <\/tr>\n",
       "    <tr>\n",
       "      <th>75%<\/th>\n",
       "      <td>4.743250<\/td>\n",
       "      <td>37.000000<\/td>\n",
       "      <td>6.052381<\/td>\n",
       "      <td>1.099526<\/td>\n",
       "      <td>1725.000000<\/td>\n",
       "      <td>3.282261<\/td>\n",
       "      <td>37.710000<\/td>\n",
       "      <td>-118.010000<\/td>\n",
       "      <td>2.647250<\/td>\n",
       "    <\/tr>\n",
       "    <tr>\n",
       "      <th>max<\/th>\n",
       "      <td>15.000100<\/td>\n",
       "      <td>52.000000<\/td>\n",
       "      <td>141.909091<\/td>\n",
       "      <td>34.066667<\/td>\n",
       "      <td>35682.000000<\/td>\n",
       "      <td>1243.333333<\/td>\n",
       "      <td>41.950000<\/td>\n",
       "      <td>-114.310000<\/td>\n",
       "      <td>5.000010<\/td>\n",
       "    <\/tr>\n",
       "  <\/tbody>\n",
       "<\/table>\n",
       "<\/div>"
      ]
     },
     "metadata":{
      
     },
     "output_type":"display_data"
    }
   ],
   "metadata":{
    "datalore":{
     "node_id":"JNV0Ql92DYcqYnliScxhCk",
     "type":"CODE",
     "hide_input_from_viewers":false,
     "hide_output_from_viewers":false
    }
   }
  },
  {
   "cell_type":"markdown",
   "source":[
    "## 3. Обучение модели на *сырых* данных"
   ],
   "attachments":{
    
   },
   "metadata":{
    "datalore":{
     "node_id":"qmIglNvLI5DzZXASsubWm9",
     "type":"MD",
     "hide_input_from_viewers":false,
     "hide_output_from_viewers":false
    }
   }
  },
  {
   "cell_type":"markdown",
   "source":[
    "Напишем функцию для обучения модели и вычисления метрик качества"
   ],
   "attachments":{
    
   },
   "metadata":{
    "datalore":{
     "node_id":"FDJ0at8kYZT4CyIhzT3VHj",
     "type":"MD",
     "hide_input_from_viewers":false,
     "hide_output_from_viewers":false
    }
   }
  },
  {
   "cell_type":"code",
   "source":[
    "def get_score(data, model, random_state=42):\n",
    "    \"\"\" \n",
    "    Обучение модели LinReg;\n",
    "    вычисление метрик RMSE, R2 \n",
    "    \"\"\"\n",
    "    model = model()\n",
    "    X = data[data.columns[:-1]]\n",
    "    y = data[bunch.target_names[0]]\n",
    "\n",
    "    X_train, X_test, y_train, y_test = train_test_split(X, y, test_size=0.2, random_state=random_state) \n",
    "    model.fit(X_train, y_train)\n",
    "\n",
    "    p_train, p_test = model.predict(X_train), model.predict(X_test)\n",
    "\n",
    "    results = np.array([\n",
    "        ['train', mean_squared_error(y_train, p_train, squared=False), r2_score(y_train, p_train)],\n",
    "        ['test', mean_squared_error(y_test, p_test, squared=False), r2_score(y_test, p_test)],\n",
    "    ])  \n",
    "\n",
    "    return pd.DataFrame(results, columns=['dataset', 'RMSE', 'R2']).set_index('dataset')"
   ],
   "execution_count":93,
   "outputs":[
    
   ],
   "metadata":{
    "datalore":{
     "node_id":"p94nYAUJwmgLv2x21x4NiO",
     "type":"CODE",
     "hide_input_from_viewers":false,
     "hide_output_from_viewers":false
    }
   }
  },
  {
   "cell_type":"code",
   "source":[
    "# Результат на неподготовленных данных\n",
    "get_score(\n",
    "    data=df,\n",
    "    model = LinearRegression\n",
    ")"
   ],
   "execution_count":94,
   "outputs":[
    {
     "data":{
      "text\/html":[
       "<div>\n",
       "<style scoped>\n",
       "    .dataframe tbody tr th:only-of-type {\n",
       "        vertical-align: middle;\n",
       "    }\n",
       "\n",
       "    .dataframe tbody tr th {\n",
       "        vertical-align: top;\n",
       "    }\n",
       "\n",
       "    .dataframe thead th {\n",
       "        text-align: right;\n",
       "    }\n",
       "<\/style>\n",
       "<table border=\"1\" class=\"dataframe\">\n",
       "  <thead>\n",
       "    <tr style=\"text-align: right;\">\n",
       "      <th><\/th>\n",
       "      <th>RMSE<\/th>\n",
       "      <th>R2<\/th>\n",
       "    <\/tr>\n",
       "    <tr>\n",
       "      <th>dataset<\/th>\n",
       "      <th><\/th>\n",
       "      <th><\/th>\n",
       "    <\/tr>\n",
       "  <\/thead>\n",
       "  <tbody>\n",
       "    <tr>\n",
       "      <th>train<\/th>\n",
       "      <td>0.7196757085831575<\/td>\n",
       "      <td>0.6125511913966952<\/td>\n",
       "    <\/tr>\n",
       "    <tr>\n",
       "      <th>test<\/th>\n",
       "      <td>0.7455813830127763<\/td>\n",
       "      <td>0.575787706032451<\/td>\n",
       "    <\/tr>\n",
       "  <\/tbody>\n",
       "<\/table>\n",
       "<\/div>"
      ]
     },
     "metadata":{
      
     },
     "output_type":"display_data"
    }
   ],
   "metadata":{
    "datalore":{
     "node_id":"SBMd47XLdv5TDVtkycEVsU",
     "type":"CODE",
     "hide_input_from_viewers":false,
     "hide_output_from_viewers":false
    }
   }
  },
  {
   "cell_type":"markdown",
   "source":[
    "## 4. Анализ целевой переменной"
   ],
   "attachments":{
    
   },
   "metadata":{
    "datalore":{
     "node_id":"7IR3mHizYktrEBILTZmfbY",
     "type":"MD",
     "hide_input_from_viewers":false,
     "hide_output_from_viewers":false
    }
   }
  },
  {
   "cell_type":"markdown",
   "source":[
    "Посмотрим на гистограмму:"
   ],
   "attachments":{
    
   },
   "metadata":{
    "datalore":{
     "node_id":"U17I0iKThAztUKmHa67aHN",
     "type":"MD",
     "hide_input_from_viewers":false,
     "hide_output_from_viewers":false
    }
   }
  },
  {
   "cell_type":"code",
   "source":[
    "bunch.target.hist(figsize=(8, 6), bins=30, edgecolor=\"black\")"
   ],
   "execution_count":95,
   "outputs":[
    {
     "data":{
      "text\/plain":[
       "<AxesSubplot:>"
      ]
     },
     "metadata":{
      
     },
     "output_type":"display_data"
    },
    {
     "data":{
      "image\/png":"[encoded data removed]"
     },
     "metadata":{
      "image\/png":{
       
      }
     },
     "output_type":"display_data"
    }
   ],
   "metadata":{
    "datalore":{
     "node_id":"dD8Nd4YZNPOJ9X69lbRhFU",
     "type":"CODE",
     "hide_input_from_viewers":false,
     "hide_output_from_viewers":false
    }
   }
  },
  {
   "cell_type":"markdown",
   "source":[
    "Видим, что распределение стоимости в целом равномерное, но отметке **5** соответствует неожиданно большое количество наблюдений. Можно сделать вывод, что значение *$500,000 (5)* - намеренно установленный порог, и все дорогостоящие дома получили это (одинаковое) значение. Проверим это:"
   ],
   "attachments":{
    
   },
   "metadata":{
    "datalore":{
     "node_id":"eCo00R85dWcGczYt4Rk8NV",
     "type":"MD",
     "hide_input_from_viewers":false,
     "hide_output_from_viewers":false
    }
   }
  },
  {
   "cell_type":"code",
   "source":[
    "df[df['MedHouseVal'] > 5].MedHouseVal.head()"
   ],
   "execution_count":96,
   "outputs":[
    {
     "data":{
      "text\/html":[
       "<pre>89     5.00001\n",
       "459    5.00001\n",
       "493    5.00001\n",
       "494    5.00001\n",
       "509    5.00001\n",
       "Name: MedHouseVal, dtype: float64<\/pre>"
      ]
     },
     "metadata":{
      
     },
     "output_type":"display_data"
    }
   ],
   "metadata":{
    "datalore":{
     "node_id":"op4YfqJCxJWaQTqlSvl8Si",
     "type":"CODE",
     "hide_input_from_viewers":false,
     "hide_output_from_viewers":false
    }
   }
  },
  {
   "cell_type":"markdown",
   "source":[
    "Действительно, почти тысяча домов получили одно и то же значение - максимально возможное. "
   ],
   "attachments":{
    
   },
   "metadata":{
    "datalore":{
     "node_id":"PG8y679Vb40j5HypDiGbFt",
     "type":"MD",
     "hide_input_from_viewers":false,
     "hide_output_from_viewers":false
    }
   }
  },
  {
   "cell_type":"markdown",
   "source":[
    "## 5. Корреляционная матрица"
   ],
   "attachments":{
    
   },
   "metadata":{
    "datalore":{
     "node_id":"iv47JkDLjf3V4zSYK6i8Iv",
     "type":"MD",
     "hide_input_from_viewers":false,
     "hide_output_from_viewers":false
    }
   }
  },
  {
   "cell_type":"code",
   "source":[
    "plt.figure(figsize=(11,7))\n",
    "sns.heatmap(cbar=False,annot=True,data=df.corr(),cmap='coolwarm')\n",
    "plt.title('Correlation Matrix')\n",
    "plt.show()"
   ],
   "execution_count":97,
   "outputs":[
    {
     "data":{
      "image\/png":"[encoded data removed]"
     },
     "metadata":{
      "image\/png":{
       
      }
     },
     "output_type":"display_data"
    }
   ],
   "metadata":{
    "datalore":{
     "node_id":"IRifnWjOHhorawKPAw2ygL",
     "type":"CODE",
     "hide_input_from_viewers":false,
     "hide_output_from_viewers":false
    }
   }
  },
  {
   "cell_type":"markdown",
   "source":[
    "Матрица позволяет сделать следующие выводы:"
   ],
   "attachments":{
    
   },
   "metadata":{
    "datalore":{
     "node_id":"aRIopDSCC9VXWSImCc6KPw",
     "type":"MD",
     "hide_input_from_viewers":false,
     "hide_output_from_viewers":false
    }
   }
  },
  {
   "cell_type":"markdown",
   "source":[
    "- **Широта и долгота сильно коррелируют между собой ввиду *географических* особенностей штата *Калифорния*. Эта корреляция обратная; попробуем удалить один из признаков.**"
   ],
   "attachments":{
    
   },
   "metadata":{
    "datalore":{
     "node_id":"JRtptbpDB1fT6SQ5WTnS0k",
     "type":"MD",
     "hide_input_from_viewers":false,
     "hide_output_from_viewers":false
    }
   }
  },
  {
   "cell_type":"code",
   "source":[
    "# Убираем широту и обучаем модель\n",
    "get_score(\n",
    "    df.drop(columns=['Latitude']), LinearRegression\n",
    ")"
   ],
   "execution_count":98,
   "outputs":[
    {
     "data":{
      "text\/html":[
       "<div>\n",
       "<style scoped>\n",
       "    .dataframe tbody tr th:only-of-type {\n",
       "        vertical-align: middle;\n",
       "    }\n",
       "\n",
       "    .dataframe tbody tr th {\n",
       "        vertical-align: top;\n",
       "    }\n",
       "\n",
       "    .dataframe thead th {\n",
       "        text-align: right;\n",
       "    }\n",
       "<\/style>\n",
       "<table border=\"1\" class=\"dataframe\">\n",
       "  <thead>\n",
       "    <tr style=\"text-align: right;\">\n",
       "      <th><\/th>\n",
       "      <th>RMSE<\/th>\n",
       "      <th>R2<\/th>\n",
       "    <\/tr>\n",
       "    <tr>\n",
       "      <th>dataset<\/th>\n",
       "      <th><\/th>\n",
       "      <th><\/th>\n",
       "    <\/tr>\n",
       "  <\/thead>\n",
       "  <tbody>\n",
       "    <tr>\n",
       "      <th>train<\/th>\n",
       "      <td>0.7780221694598236<\/td>\n",
       "      <td>0.5471810575363253<\/td>\n",
       "    <\/tr>\n",
       "    <tr>\n",
       "      <th>test<\/th>\n",
       "      <td>0.8010837880530353<\/td>\n",
       "      <td>0.5102786640374906<\/td>\n",
       "    <\/tr>\n",
       "  <\/tbody>\n",
       "<\/table>\n",
       "<\/div>"
      ]
     },
     "metadata":{
      
     },
     "output_type":"display_data"
    }
   ],
   "metadata":{
    "datalore":{
     "node_id":"bWfa1h9u1WyViBaVVgydRF",
     "type":"CODE",
     "hide_input_from_viewers":false,
     "hide_output_from_viewers":false
    }
   }
  },
  {
   "cell_type":"markdown",
   "source":[
    "Результат ухудшился. Для дальнейших расчётов оставим оба столбца."
   ],
   "attachments":{
    
   },
   "metadata":{
    "datalore":{
     "node_id":"oFqaoil0G6LguK60F7wmu0",
     "type":"MD",
     "hide_input_from_viewers":false,
     "hide_output_from_viewers":false
    }
   }
  },
  {
   "cell_type":"markdown",
   "source":[
    "- **Целевая переменная сильно коррелирует со *значением среднего дохода (первый столбец)*, что вполне логично: чем больше денег, тем более дорогое жильё можно себе позволить. Этот столбец наиболее важен для точного предсказания (пока ничего делать с ним не будем)**"
   ],
   "attachments":{
    
   },
   "metadata":{
    "datalore":{
     "node_id":"OlaZqjR7eVyXgHiEn0QqUt",
     "type":"MD",
     "hide_input_from_viewers":false,
     "hide_output_from_viewers":false
    }
   }
  },
  {
   "cell_type":"markdown",
   "source":[
    "- **Среднее количество комнат сильно коррелирует с числом спальных комнат. Здесь закономерность тоже очевидна: чем больше комнат в целом, тем, вероятнее, больше будет и конкретных комнат. Оставим только среднее число всех комнат**"
   ],
   "attachments":{
    
   },
   "metadata":{
    "datalore":{
     "node_id":"ptXz4ijvJKdJctcQrHIouK",
     "type":"MD",
     "hide_input_from_viewers":false,
     "hide_output_from_viewers":false
    }
   }
  },
  {
   "cell_type":"code",
   "source":[
    "# Удаляем число спальных комнат\n",
    "df.drop(columns=['AveBedrms'], inplace=True)\n",
    "get_score(df, LinearRegression)"
   ],
   "execution_count":99,
   "outputs":[
    {
     "data":{
      "text\/html":[
       "<div>\n",
       "<style scoped>\n",
       "    .dataframe tbody tr th:only-of-type {\n",
       "        vertical-align: middle;\n",
       "    }\n",
       "\n",
       "    .dataframe tbody tr th {\n",
       "        vertical-align: top;\n",
       "    }\n",
       "\n",
       "    .dataframe thead th {\n",
       "        text-align: right;\n",
       "    }\n",
       "<\/style>\n",
       "<table border=\"1\" class=\"dataframe\">\n",
       "  <thead>\n",
       "    <tr style=\"text-align: right;\">\n",
       "      <th><\/th>\n",
       "      <th>RMSE<\/th>\n",
       "      <th>R2<\/th>\n",
       "    <\/tr>\n",
       "    <tr>\n",
       "      <th>dataset<\/th>\n",
       "      <th><\/th>\n",
       "      <th><\/th>\n",
       "    <\/tr>\n",
       "  <\/thead>\n",
       "  <tbody>\n",
       "    <tr>\n",
       "      <th>train<\/th>\n",
       "      <td>0.7316746485880744<\/td>\n",
       "      <td>0.5995238502055928<\/td>\n",
       "    <\/tr>\n",
       "    <tr>\n",
       "      <th>test<\/th>\n",
       "      <td>0.7398151789804083<\/td>\n",
       "      <td>0.5823239094526445<\/td>\n",
       "    <\/tr>\n",
       "  <\/tbody>\n",
       "<\/table>\n",
       "<\/div>"
      ]
     },
     "metadata":{
      
     },
     "output_type":"display_data"
    }
   ],
   "metadata":{
    "datalore":{
     "node_id":"AEPBNzAB8B4eEtKrAfl5R8",
     "type":"CODE",
     "hide_input_from_viewers":false,
     "hide_output_from_viewers":false
    }
   }
  },
  {
   "cell_type":"markdown",
   "source":[
    "Метрики модели ухудшились для обучающей выборки, но стали лучше для тестовой - значит, удаление признака снизило переобучение модели. Оставим эти метрики как конечный результат применения корреляционной матрицы."
   ],
   "attachments":{
    
   },
   "metadata":{
    "datalore":{
     "node_id":"dC3CQTjeA00B21kRdaIKO3",
     "type":"MD",
     "hide_input_from_viewers":false,
     "hide_output_from_viewers":false
    }
   }
  },
  {
   "cell_type":"markdown",
   "source":[
    "## 6. Исследование выбросов"
   ],
   "attachments":{
    
   },
   "metadata":{
    "datalore":{
     "node_id":"8sfcIwKQKAyjKwVeGngqTR",
     "type":"MD",
     "hide_input_from_viewers":false,
     "hide_output_from_viewers":false
    }
   }
  },
  {
   "cell_type":"markdown",
   "source":[
    "#### Боксплоты"
   ],
   "attachments":{
    
   },
   "metadata":{
    "datalore":{
     "node_id":"Psnl2G02QJi9946uyQ4Aw9",
     "type":"MD",
     "hide_input_from_viewers":false,
     "hide_output_from_viewers":false
    }
   }
  },
  {
   "cell_type":"code",
   "source":[
    "# Отобразим ящики с усами\n",
    "fig = plt.figure(figsize = (25,18))\n",
    "\n",
    "for i, column in enumerate(df.columns):\n",
    "    ax = fig.add_subplot(3, 3, i+1)\n",
    "    sns.boxplot(x = df[column],ax=ax)\n",
    "fig.tight_layout()"
   ],
   "execution_count":100,
   "outputs":[
    {
     "data":{
      "image\/png":"[encoded data removed]"
     },
     "metadata":{
      "image\/png":{
       
      }
     },
     "output_type":"display_data"
    }
   ],
   "metadata":{
    "datalore":{
     "node_id":"7rimpiL56vK1yPN75Sfdmx",
     "type":"CODE",
     "hide_input_from_viewers":false,
     "hide_output_from_viewers":false
    }
   }
  },
  {
   "cell_type":"markdown",
   "source":[
    "#### Гистограммы"
   ],
   "attachments":{
    
   },
   "metadata":{
    "datalore":{
     "node_id":"BqKPItc9rhYEIyrXb7eUKl",
     "type":"MD",
     "hide_input_from_viewers":false,
     "hide_output_from_viewers":false
    }
   }
  },
  {
   "cell_type":"code",
   "source":[
    "df[df.columns[:-1]].hist(histtype='step', figsize=(16, 16), bins=30)"
   ],
   "execution_count":101,
   "outputs":[
    {
     "data":{
      "text\/html":[
       "<pre>array([[%lt;AxesSubplot:title={'center':'MedInc'}%gt;,\n",
       "        %lt;AxesSubplot:title={'center':'HouseAge'}%gt;,\n",
       "        %lt;AxesSubplot:title={'center':'AveRooms'}%gt;],\n",
       "       [%lt;AxesSubplot:title={'center':'Population'}%gt;,\n",
       "        %lt;AxesSubplot:title={'center':'AveOccup'}%gt;,\n",
       "        %lt;AxesSubplot:title={'center':'Latitude'}%gt;],\n",
       "       [%lt;AxesSubplot:title={'center':'Longitude'}%gt;, %lt;AxesSubplot:%gt;,\n",
       "        %lt;AxesSubplot:%gt;]], dtype=object)<\/pre>"
      ]
     },
     "metadata":{
      
     },
     "output_type":"display_data"
    },
    {
     "data":{
      "image\/png":"[encoded data removed]"
     },
     "metadata":{
      "image\/png":{
       
      }
     },
     "output_type":"display_data"
    }
   ],
   "metadata":{
    "datalore":{
     "node_id":"pHvuhQYWVhoD6DTHIQBcbg",
     "type":"CODE",
     "hide_input_from_viewers":false,
     "hide_output_from_viewers":false
    }
   }
  },
  {
   "cell_type":"markdown",
   "source":[
    "#### Удаление выбросов"
   ],
   "attachments":{
    
   },
   "metadata":{
    "datalore":{
     "node_id":"WBVmsLjunDg5AztfyGr1Mc",
     "type":"MD",
     "hide_input_from_viewers":false,
     "hide_output_from_viewers":false
    }
   }
  },
  {
   "cell_type":"markdown",
   "source":[
    "1) Количество комнат\n"
   ],
   "attachments":{
    
   },
   "metadata":{
    "datalore":{
     "node_id":"0IxYBtlVWmJGl6AjuD0XVu",
     "type":"MD",
     "hide_input_from_viewers":false,
     "hide_output_from_viewers":false
    }
   }
  },
  {
   "cell_type":"code",
   "source":[
    "df = df[df.AveRooms < 80]\n",
    "get_score(df, LinearRegression)"
   ],
   "execution_count":102,
   "outputs":[
    {
     "data":{
      "text\/html":[
       "<div>\n",
       "<style scoped>\n",
       "    .dataframe tbody tr th:only-of-type {\n",
       "        vertical-align: middle;\n",
       "    }\n",
       "\n",
       "    .dataframe tbody tr th {\n",
       "        vertical-align: top;\n",
       "    }\n",
       "\n",
       "    .dataframe thead th {\n",
       "        text-align: right;\n",
       "    }\n",
       "<\/style>\n",
       "<table border=\"1\" class=\"dataframe\">\n",
       "  <thead>\n",
       "    <tr style=\"text-align: right;\">\n",
       "      <th><\/th>\n",
       "      <th>RMSE<\/th>\n",
       "      <th>R2<\/th>\n",
       "    <\/tr>\n",
       "    <tr>\n",
       "      <th>dataset<\/th>\n",
       "      <th><\/th>\n",
       "      <th><\/th>\n",
       "    <\/tr>\n",
       "  <\/thead>\n",
       "  <tbody>\n",
       "    <tr>\n",
       "      <th>train<\/th>\n",
       "      <td>0.7322592369872835<\/td>\n",
       "      <td>0.5975476886587814<\/td>\n",
       "    <\/tr>\n",
       "    <tr>\n",
       "      <th>test<\/th>\n",
       "      <td>0.7362716004436051<\/td>\n",
       "      <td>0.5913655345464535<\/td>\n",
       "    <\/tr>\n",
       "  <\/tbody>\n",
       "<\/table>\n",
       "<\/div>"
      ]
     },
     "metadata":{
      
     },
     "output_type":"display_data"
    }
   ],
   "metadata":{
    "datalore":{
     "node_id":"dHLKpZNkvHowIgYrugOTR1",
     "type":"CODE",
     "hide_input_from_viewers":false,
     "hide_output_from_viewers":false
    }
   }
  },
  {
   "cell_type":"markdown",
   "source":[
    "2. Население блока"
   ],
   "attachments":{
    
   },
   "metadata":{
    "datalore":{
     "node_id":"hkB5MaeYmYkQBelbp9Ohss",
     "type":"MD",
     "hide_input_from_viewers":false,
     "hide_output_from_viewers":false
    }
   }
  },
  {
   "cell_type":"code",
   "source":[
    "df = df[df.Population < 8000]\n",
    "get_score(df, LinearRegression)"
   ],
   "execution_count":103,
   "outputs":[
    {
     "data":{
      "text\/html":[
       "<div>\n",
       "<style scoped>\n",
       "    .dataframe tbody tr th:only-of-type {\n",
       "        vertical-align: middle;\n",
       "    }\n",
       "\n",
       "    .dataframe tbody tr th {\n",
       "        vertical-align: top;\n",
       "    }\n",
       "\n",
       "    .dataframe thead th {\n",
       "        text-align: right;\n",
       "    }\n",
       "<\/style>\n",
       "<table border=\"1\" class=\"dataframe\">\n",
       "  <thead>\n",
       "    <tr style=\"text-align: right;\">\n",
       "      <th><\/th>\n",
       "      <th>RMSE<\/th>\n",
       "      <th>R2<\/th>\n",
       "    <\/tr>\n",
       "    <tr>\n",
       "      <th>dataset<\/th>\n",
       "      <th><\/th>\n",
       "      <th><\/th>\n",
       "    <\/tr>\n",
       "  <\/thead>\n",
       "  <tbody>\n",
       "    <tr>\n",
       "      <th>train<\/th>\n",
       "      <td>0.7377670094954035<\/td>\n",
       "      <td>0.5919077594049078<\/td>\n",
       "    <\/tr>\n",
       "    <tr>\n",
       "      <th>test<\/th>\n",
       "      <td>0.7170288389975801<\/td>\n",
       "      <td>0.6133497069725524<\/td>\n",
       "    <\/tr>\n",
       "  <\/tbody>\n",
       "<\/table>\n",
       "<\/div>"
      ]
     },
     "metadata":{
      
     },
     "output_type":"display_data"
    }
   ],
   "metadata":{
    "datalore":{
     "node_id":"DayBlhQVFS0yOZzwPPVBMn",
     "type":"CODE",
     "hide_input_from_viewers":false,
     "hide_output_from_viewers":false
    }
   }
  },
  {
   "cell_type":"markdown",
   "source":[
    "3. Household members"
   ],
   "attachments":{
    
   },
   "metadata":{
    "datalore":{
     "node_id":"JdMkSICgTJ0lI747VE2aPS",
     "type":"MD",
     "hide_input_from_viewers":false,
     "hide_output_from_viewers":false
    }
   }
  },
  {
   "cell_type":"markdown",
   "source":[
    "В этом столбце *межквартильный размах* очень узкий, поэтому выбросы мы \"обрежем\" почти полностью - при сравнении это даёт лучший результат."
   ],
   "attachments":{
    
   },
   "metadata":{
    "datalore":{
     "node_id":"EA9efLDHbpBUzl4adxVekk",
     "type":"MD",
     "hide_input_from_viewers":false,
     "hide_output_from_viewers":false
    }
   }
  },
  {
   "cell_type":"code",
   "source":[
    "df = df[df.AveOccup < 10]\n",
    "get_score(df, LinearRegression)"
   ],
   "execution_count":104,
   "outputs":[
    {
     "data":{
      "text\/html":[
       "<div>\n",
       "<style scoped>\n",
       "    .dataframe tbody tr th:only-of-type {\n",
       "        vertical-align: middle;\n",
       "    }\n",
       "\n",
       "    .dataframe tbody tr th {\n",
       "        vertical-align: top;\n",
       "    }\n",
       "\n",
       "    .dataframe thead th {\n",
       "        text-align: right;\n",
       "    }\n",
       "<\/style>\n",
       "<table border=\"1\" class=\"dataframe\">\n",
       "  <thead>\n",
       "    <tr style=\"text-align: right;\">\n",
       "      <th><\/th>\n",
       "      <th>RMSE<\/th>\n",
       "      <th>R2<\/th>\n",
       "    <\/tr>\n",
       "    <tr>\n",
       "      <th>dataset<\/th>\n",
       "      <th><\/th>\n",
       "      <th><\/th>\n",
       "    <\/tr>\n",
       "  <\/thead>\n",
       "  <tbody>\n",
       "    <tr>\n",
       "      <th>train<\/th>\n",
       "      <td>0.6800217667536742<\/td>\n",
       "      <td>0.6550013909003375<\/td>\n",
       "    <\/tr>\n",
       "    <tr>\n",
       "      <th>test<\/th>\n",
       "      <td>0.6932463230095822<\/td>\n",
       "      <td>0.630251571437026<\/td>\n",
       "    <\/tr>\n",
       "  <\/tbody>\n",
       "<\/table>\n",
       "<\/div>"
      ]
     },
     "metadata":{
      
     },
     "output_type":"display_data"
    }
   ],
   "metadata":{
    "datalore":{
     "node_id":"BO4zqRYcmI9hkWC0EU6tH9",
     "type":"CODE",
     "hide_input_from_viewers":false,
     "hide_output_from_viewers":false
    }
   }
  },
  {
   "cell_type":"markdown",
   "source":[
    "Видим, что удаление выбросов позволило улучшить результат."
   ],
   "attachments":{
    
   },
   "metadata":{
    "datalore":{
     "node_id":"3kqfS6oajJI9ELJqONDd3M",
     "type":"MD",
     "hide_input_from_viewers":false,
     "hide_output_from_viewers":false
    }
   }
  },
  {
   "cell_type":"markdown",
   "source":[
    "## 7. Математические преобразования признаков"
   ],
   "attachments":{
    
   },
   "metadata":{
    "datalore":{
     "node_id":"macbZOahJiW2lKUGLvb7WY",
     "type":"MD",
     "hide_input_from_viewers":false,
     "hide_output_from_viewers":false
    }
   }
  },
  {
   "cell_type":"markdown",
   "source":[
    "#### 1. Логарифмирование"
   ],
   "attachments":{
    
   },
   "metadata":{
    "datalore":{
     "node_id":"UVs9qDjDyKu8jhXr8fHouG",
     "type":"MD",
     "hide_input_from_viewers":false,
     "hide_output_from_viewers":false
    }
   }
  },
  {
   "cell_type":"markdown",
   "source":[
    "Прологарифмируем признаки с очень узким межквартильным размахом"
   ],
   "attachments":{
    
   },
   "metadata":{
    "datalore":{
     "node_id":"h6JmfFGDXvTI2VcL4U64gk",
     "type":"MD",
     "hide_input_from_viewers":false,
     "hide_output_from_viewers":false
    }
   }
  },
  {
   "cell_type":"code",
   "source":[
    "# Ещё раз посмотрим на них до преобразования\n",
    "df[['AveOccup', 'AveRooms']].hist(bins=30)"
   ],
   "execution_count":105,
   "outputs":[
    {
     "data":{
      "text\/html":[
       "<pre>array([[%lt;AxesSubplot:title={'center':'AveOccup'}%gt;,\n",
       "        %lt;AxesSubplot:title={'center':'AveRooms'}%gt;]], dtype=object)<\/pre>"
      ]
     },
     "metadata":{
      
     },
     "output_type":"display_data"
    },
    {
     "data":{
      "image\/png":"[encoded data removed]"
     },
     "metadata":{
      "image\/png":{
       
      }
     },
     "output_type":"display_data"
    }
   ],
   "metadata":{
    "datalore":{
     "node_id":"t27E34dDFk0nQ8OjxkB97r",
     "type":"CODE",
     "hide_input_from_viewers":false,
     "hide_output_from_viewers":false
    }
   }
  },
  {
   "cell_type":"code",
   "source":[
    "df['AveOccup'] = np.log(df['AveOccup'])\n",
    "get_score(df, LinearRegression)"
   ],
   "execution_count":106,
   "outputs":[
    {
     "data":{
      "text\/html":[
       "<div>\n",
       "<style scoped>\n",
       "    .dataframe tbody tr th:only-of-type {\n",
       "        vertical-align: middle;\n",
       "    }\n",
       "\n",
       "    .dataframe tbody tr th {\n",
       "        vertical-align: top;\n",
       "    }\n",
       "\n",
       "    .dataframe thead th {\n",
       "        text-align: right;\n",
       "    }\n",
       "<\/style>\n",
       "<table border=\"1\" class=\"dataframe\">\n",
       "  <thead>\n",
       "    <tr style=\"text-align: right;\">\n",
       "      <th><\/th>\n",
       "      <th>RMSE<\/th>\n",
       "      <th>R2<\/th>\n",
       "    <\/tr>\n",
       "    <tr>\n",
       "      <th>dataset<\/th>\n",
       "      <th><\/th>\n",
       "      <th><\/th>\n",
       "    <\/tr>\n",
       "  <\/thead>\n",
       "  <tbody>\n",
       "    <tr>\n",
       "      <th>train<\/th>\n",
       "      <td>0.6678401369463359<\/td>\n",
       "      <td>0.6672510079420719<\/td>\n",
       "    <\/tr>\n",
       "    <tr>\n",
       "      <th>test<\/th>\n",
       "      <td>0.6812779196582969<\/td>\n",
       "      <td>0.6429082516850778<\/td>\n",
       "    <\/tr>\n",
       "  <\/tbody>\n",
       "<\/table>\n",
       "<\/div>"
      ]
     },
     "metadata":{
      
     },
     "output_type":"display_data"
    }
   ],
   "metadata":{
    "datalore":{
     "node_id":"w0Xk8mCMpfIoYXitPuEPO5",
     "type":"CODE",
     "hide_input_from_viewers":false,
     "hide_output_from_viewers":false
    }
   }
  },
  {
   "cell_type":"code",
   "source":[
    "df['AveRooms'] = np.log(df['AveRooms'])\n",
    "get_score(df, LinearRegression)"
   ],
   "execution_count":107,
   "outputs":[
    {
     "data":{
      "text\/html":[
       "<div>\n",
       "<style scoped>\n",
       "    .dataframe tbody tr th:only-of-type {\n",
       "        vertical-align: middle;\n",
       "    }\n",
       "\n",
       "    .dataframe tbody tr th {\n",
       "        vertical-align: top;\n",
       "    }\n",
       "\n",
       "    .dataframe thead th {\n",
       "        text-align: right;\n",
       "    }\n",
       "<\/style>\n",
       "<table border=\"1\" class=\"dataframe\">\n",
       "  <thead>\n",
       "    <tr style=\"text-align: right;\">\n",
       "      <th><\/th>\n",
       "      <th>RMSE<\/th>\n",
       "      <th>R2<\/th>\n",
       "    <\/tr>\n",
       "    <tr>\n",
       "      <th>dataset<\/th>\n",
       "      <th><\/th>\n",
       "      <th><\/th>\n",
       "    <\/tr>\n",
       "  <\/thead>\n",
       "  <tbody>\n",
       "    <tr>\n",
       "      <th>train<\/th>\n",
       "      <td>0.6685784875469253<\/td>\n",
       "      <td>0.6665148400571056<\/td>\n",
       "    <\/tr>\n",
       "    <tr>\n",
       "      <th>test<\/th>\n",
       "      <td>0.6809428296598276<\/td>\n",
       "      <td>0.6432594400702538<\/td>\n",
       "    <\/tr>\n",
       "  <\/tbody>\n",
       "<\/table>\n",
       "<\/div>"
      ]
     },
     "metadata":{
      
     },
     "output_type":"display_data"
    }
   ],
   "metadata":{
    "datalore":{
     "node_id":"NPz5Q5YErp2z7ydijEQZNw",
     "type":"CODE",
     "hide_input_from_viewers":false,
     "hide_output_from_viewers":false
    }
   }
  },
  {
   "cell_type":"code",
   "source":[
    "# Посмотрим, как данные распределены теперь\n",
    "df[['AveOccup', 'AveRooms']].hist(bins=30)"
   ],
   "execution_count":108,
   "outputs":[
    {
     "data":{
      "text\/html":[
       "<pre>array([[%lt;AxesSubplot:title={'center':'AveOccup'}%gt;,\n",
       "        %lt;AxesSubplot:title={'center':'AveRooms'}%gt;]], dtype=object)<\/pre>"
      ]
     },
     "metadata":{
      
     },
     "output_type":"display_data"
    },
    {
     "data":{
      "image\/png":"[encoded data removed]"
     },
     "metadata":{
      "image\/png":{
       
      }
     },
     "output_type":"display_data"
    }
   ],
   "metadata":{
    "datalore":{
     "node_id":"ylcruP8IBSiwuxneCNkCd9",
     "type":"CODE",
     "hide_input_from_viewers":false,
     "hide_output_from_viewers":false
    }
   }
  },
  {
   "cell_type":"markdown",
   "source":[
    "Была также попытка логарифрировать Population, но это привело к ухудшению результата."
   ],
   "attachments":{
    
   },
   "metadata":{
    "datalore":{
     "node_id":"NQdZUxarn5yYepJSvpT5Xw",
     "type":"MD",
     "hide_input_from_viewers":false,
     "hide_output_from_viewers":false
    }
   }
  },
  {
   "cell_type":"markdown",
   "source":[
    "#### 2. Бинаризация"
   ],
   "attachments":{
    
   },
   "metadata":{
    "datalore":{
     "node_id":"2OEN6k0ZQkcxRcu36IT50r",
     "type":"MD",
     "hide_input_from_viewers":false,
     "hide_output_from_viewers":false
    }
   }
  },
  {
   "cell_type":"markdown",
   "source":[
    "Признак \"Доход\", имеющий пороговое значение *15*, хорошо коррелирует с целевой переменной, у которой тоже есть пороговое значение."
   ],
   "attachments":{
    
   },
   "metadata":{
    "datalore":{
     "node_id":"4sVSOrT5JVwtCiXpSoTfHL",
     "type":"MD",
     "hide_input_from_viewers":false,
     "hide_output_from_viewers":false
    }
   }
  },
  {
   "cell_type":"code",
   "source":[
    "print(df[df['MedInc'] >= 15]['MedHouseVal'].describe())\n",
    "df[df['MedInc'] >= 15][['MedInc', 'MedHouseVal']].head()"
   ],
   "execution_count":109,
   "outputs":[
    {
     "name":"stdout",
     "text":[
      "count    50.000000\n",
      "mean      4.876269\n",
      "std       0.572829\n",
      "min       1.313000\n",
      "25%       5.000010\n",
      "50%       5.000010\n",
      "75%       5.000010\n",
      "max       5.000010\n",
      "Name: MedHouseVal, dtype: float64\n"
     ],
     "output_type":"stream"
    },
    {
     "data":{
      "text\/html":[
       "<div>\n",
       "<style scoped>\n",
       "    .dataframe tbody tr th:only-of-type {\n",
       "        vertical-align: middle;\n",
       "    }\n",
       "\n",
       "    .dataframe tbody tr th {\n",
       "        vertical-align: top;\n",
       "    }\n",
       "\n",
       "    .dataframe thead th {\n",
       "        text-align: right;\n",
       "    }\n",
       "<\/style>\n",
       "<table border=\"1\" class=\"dataframe\">\n",
       "  <thead>\n",
       "    <tr style=\"text-align: right;\">\n",
       "      <th><\/th>\n",
       "      <th>MedInc<\/th>\n",
       "      <th>MedHouseVal<\/th>\n",
       "    <\/tr>\n",
       "  <\/thead>\n",
       "  <tbody>\n",
       "    <tr>\n",
       "      <th>1566<\/th>\n",
       "      <td>15.0001<\/td>\n",
       "      <td>3.50000<\/td>\n",
       "    <\/tr>\n",
       "    <tr>\n",
       "      <th>4352<\/th>\n",
       "      <td>15.0001<\/td>\n",
       "      <td>5.00001<\/td>\n",
       "    <\/tr>\n",
       "    <tr>\n",
       "      <th>4604<\/th>\n",
       "      <td>15.0001<\/td>\n",
       "      <td>5.00001<\/td>\n",
       "    <\/tr>\n",
       "    <tr>\n",
       "      <th>4605<\/th>\n",
       "      <td>15.0001<\/td>\n",
       "      <td>5.00001<\/td>\n",
       "    <\/tr>\n",
       "    <tr>\n",
       "      <th>4606<\/th>\n",
       "      <td>15.0001<\/td>\n",
       "      <td>5.00001<\/td>\n",
       "    <\/tr>\n",
       "  <\/tbody>\n",
       "<\/table>\n",
       "<\/div>"
      ]
     },
     "metadata":{
      
     },
     "output_type":"display_data"
    }
   ],
   "metadata":{
    "datalore":{
     "node_id":"PO2I7eFJkePykRjAtwWLiD",
     "type":"CODE",
     "hide_input_from_viewers":false,
     "hide_output_from_viewers":false
    }
   }
  },
  {
   "cell_type":"markdown",
   "source":[
    "Видим, что в том случае, если доход достигает порога, цена жилья практически гарантированно (96%) так же имеет максимальное значение. \n",
    "\n",
    "Тогда введём отдельный признак, показывающий, превышает ли доход $15000:"
   ],
   "attachments":{
    
   },
   "metadata":{
    "datalore":{
     "node_id":"O1hzYtLLmpFek9NMy7Qa6U",
     "type":"MD",
     "hide_input_from_viewers":false,
     "hide_output_from_viewers":false
    }
   }
  },
  {
   "cell_type":"code",
   "source":[
    "df.insert(1, 'HighInc', df['MedInc'] >= 15)\n",
    "df['HighInc'] = df.HighInc.astype('int64')  # Меняем True\/False на 1\/0\n",
    "\n",
    "get_score(df, LinearRegression)"
   ],
   "execution_count":110,
   "outputs":[
    {
     "data":{
      "text\/html":[
       "<div>\n",
       "<style scoped>\n",
       "    .dataframe tbody tr th:only-of-type {\n",
       "        vertical-align: middle;\n",
       "    }\n",
       "\n",
       "    .dataframe tbody tr th {\n",
       "        vertical-align: top;\n",
       "    }\n",
       "\n",
       "    .dataframe thead th {\n",
       "        text-align: right;\n",
       "    }\n",
       "<\/style>\n",
       "<table border=\"1\" class=\"dataframe\">\n",
       "  <thead>\n",
       "    <tr style=\"text-align: right;\">\n",
       "      <th><\/th>\n",
       "      <th>RMSE<\/th>\n",
       "      <th>R2<\/th>\n",
       "    <\/tr>\n",
       "    <tr>\n",
       "      <th>dataset<\/th>\n",
       "      <th><\/th>\n",
       "      <th><\/th>\n",
       "    <\/tr>\n",
       "  <\/thead>\n",
       "  <tbody>\n",
       "    <tr>\n",
       "      <th>train<\/th>\n",
       "      <td>0.6632002163556575<\/td>\n",
       "      <td>0.6718585943227673<\/td>\n",
       "    <\/tr>\n",
       "    <tr>\n",
       "      <th>test<\/th>\n",
       "      <td>0.6759787800874816<\/td>\n",
       "      <td>0.6484417341724794<\/td>\n",
       "    <\/tr>\n",
       "  <\/tbody>\n",
       "<\/table>\n",
       "<\/div>"
      ]
     },
     "metadata":{
      
     },
     "output_type":"display_data"
    }
   ],
   "metadata":{
    "datalore":{
     "node_id":"mM4854xhEPywoVDIStD2jO",
     "type":"CODE",
     "hide_input_from_viewers":false,
     "hide_output_from_viewers":false
    }
   }
  },
  {
   "cell_type":"markdown",
   "source":[
    "## 8. Выводы"
   ],
   "attachments":{
    
   },
   "metadata":{
    "datalore":{
     "node_id":"rVYaeN00oxS7f2TsEm1LcA",
     "type":"MD",
     "hide_input_from_viewers":false,
     "hide_output_from_viewers":false
    }
   }
  },
  {
   "cell_type":"markdown",
   "source":[
    "В ходе работы с данными были проделаны следующие преобразования:"
   ],
   "attachments":{
    
   },
   "metadata":{
    "datalore":{
     "node_id":"nYw5XJHXs0pz4VdSYrzoCE",
     "type":"MD",
     "hide_input_from_viewers":false,
     "hide_output_from_viewers":false
    }
   }
  },
  {
   "cell_type":"markdown",
   "source":[
    "**1) На основании *корреляционной матрицы* были отброшены данные, способствующие переобучению модели;**"
   ],
   "attachments":{
    
   },
   "metadata":{
    "datalore":{
     "node_id":"JnVQaWXE3NBlQv9JWhxKAr",
     "type":"MD",
     "hide_input_from_viewers":false,
     "hide_output_from_viewers":false
    }
   }
  },
  {
   "cell_type":"markdown",
   "source":[
    "**2) Были удалены выбросы;**"
   ],
   "attachments":{
    
   },
   "metadata":{
    "datalore":{
     "node_id":"XCGZMx3cv33lcWiN5FwFI4",
     "type":"MD",
     "hide_input_from_viewers":false,
     "hide_output_from_viewers":false
    }
   }
  },
  {
   "cell_type":"markdown",
   "source":[
    "**3) Были проведены математические преобразования признаков.**"
   ],
   "attachments":{
    
   },
   "metadata":{
    "datalore":{
     "node_id":"4yiWkcKXvRXegsAD51v6HT",
     "type":"MD",
     "hide_input_from_viewers":false,
     "hide_output_from_viewers":false
    }
   }
  },
  {
   "cell_type":"markdown",
   "source":[
    "Всё это позволило улучшить качество модели: RMSE метрика уменьшилась, а R2 увеличилась:"
   ],
   "attachments":{
    
   },
   "metadata":{
    "datalore":{
     "node_id":"xAcPHoEIvUJu7Y4LSDEHYD",
     "type":"MD",
     "hide_input_from_viewers":false,
     "hide_output_from_viewers":false
    }
   }
  },
  {
   "cell_type":"code",
   "source":[
    "def show_results(rmse, r2):\n",
    "    \"\"\" Функция для отображения результатов работы. \"\"\"\n",
    "    return pd.DataFrame(np.array(\n",
    "        [\n",
    "        ['raw data', rmse[0], r2[0]],\n",
    "        ['correlation, %', round(100*(rmse[1] - rmse[0]), 2), round(100*(r2[1] - r2[0]), 2)],\n",
    "        ['outliers, %', round(100*(rmse[2] - rmse[0]), 2), round(100*(r2[2] - r2[0]), 2)],\n",
    "        ['math, %', round(100*(rmse[3] - rmse[0]), 2), round(100*(r2[3] - r2[0]))],\n",
    "        ['final', rmse[3], r2[3]]\n",
    "        ]), \n",
    "        columns=['step', 'RMSE', 'R2']).set_index('step')"
   ],
   "execution_count":111,
   "outputs":[
    
   ],
   "metadata":{
    "datalore":{
     "node_id":"FvmZamzIxoAjTTwh7nqhpr",
     "type":"CODE",
     "hide_input_from_viewers":false,
     "hide_output_from_viewers":false
    }
   }
  },
  {
   "cell_type":"code",
   "source":[
    "show_results([0.7455813830127763, 0.7398151789804083, 0.6932463230095822, 0.6759787800874816], \n",
    "[0.575787706032451, 0.5823239094526445, 0.630251571437026, 0.6484417341724794])"
   ],
   "execution_count":112,
   "outputs":[
    {
     "data":{
      "text\/html":[
       "<div>\n",
       "<style scoped>\n",
       "    .dataframe tbody tr th:only-of-type {\n",
       "        vertical-align: middle;\n",
       "    }\n",
       "\n",
       "    .dataframe tbody tr th {\n",
       "        vertical-align: top;\n",
       "    }\n",
       "\n",
       "    .dataframe thead th {\n",
       "        text-align: right;\n",
       "    }\n",
       "<\/style>\n",
       "<table border=\"1\" class=\"dataframe\">\n",
       "  <thead>\n",
       "    <tr style=\"text-align: right;\">\n",
       "      <th><\/th>\n",
       "      <th>RMSE<\/th>\n",
       "      <th>R2<\/th>\n",
       "    <\/tr>\n",
       "    <tr>\n",
       "      <th>step<\/th>\n",
       "      <th><\/th>\n",
       "      <th><\/th>\n",
       "    <\/tr>\n",
       "  <\/thead>\n",
       "  <tbody>\n",
       "    <tr>\n",
       "      <th>raw data<\/th>\n",
       "      <td>0.7455813830127763<\/td>\n",
       "      <td>0.575787706032451<\/td>\n",
       "    <\/tr>\n",
       "    <tr>\n",
       "      <th>correlation, %<\/th>\n",
       "      <td>-0.58<\/td>\n",
       "      <td>0.65<\/td>\n",
       "    <\/tr>\n",
       "    <tr>\n",
       "      <th>outliers, %<\/th>\n",
       "      <td>-5.23<\/td>\n",
       "      <td>5.45<\/td>\n",
       "    <\/tr>\n",
       "    <tr>\n",
       "      <th>math, %<\/th>\n",
       "      <td>-6.96<\/td>\n",
       "      <td>7<\/td>\n",
       "    <\/tr>\n",
       "    <tr>\n",
       "      <th>final<\/th>\n",
       "      <td>0.6759787800874816<\/td>\n",
       "      <td>0.6484417341724794<\/td>\n",
       "    <\/tr>\n",
       "  <\/tbody>\n",
       "<\/table>\n",
       "<\/div>"
      ]
     },
     "metadata":{
      
     },
     "output_type":"display_data"
    }
   ],
   "metadata":{
    "datalore":{
     "node_id":"Q98EG460SgS0lKwqh1MtZo",
     "type":"CODE",
     "hide_input_from_viewers":false,
     "hide_output_from_viewers":false
    }
   }
  },
  {
   "cell_type":"markdown",
   "source":[
    "#### Результат работы:"
   ],
   "attachments":{
    
   },
   "metadata":{
    "datalore":{
     "node_id":"ldZDduELC2YeeGhrtiqZ6v",
     "type":"MD",
     "hide_input_from_viewers":false,
     "hide_output_from_viewers":false
    }
   }
  },
  {
   "cell_type":"markdown",
   "source":[
    "Поставленная задача была полностью выполнена. Были опробованы различные способы обработки данных, после чего была оценена эффективность способов. Каждый подход позволил в той или иной степени улучшить качество предсказаний:\n",
    "суммарно обе метрики улучшились примерно на 7%."
   ],
   "attachments":{
    
   },
   "metadata":{
    "datalore":{
     "node_id":"Ngc6ZknBnhtPO24ORDnuIn",
     "type":"MD",
     "hide_input_from_viewers":false,
     "hide_output_from_viewers":false
    }
   }
  },
  {
   "cell_type":"code",
   "source":[
    
   ],
   "execution_count":null,
   "outputs":[
    
   ],
   "metadata":{
    "datalore":{
     "node_id":"ROFsHDx6XzzVvPWuwBfmbb",
     "type":"CODE",
     "hide_input_from_viewers":false,
     "hide_output_from_viewers":false
    }
   }
  }
 ],
 "metadata":{
  "kernelspec":{
   "display_name":"Python",
   "language":"python",
   "name":"python"
  },
  "datalore":{
   "version":1,
   "computation_mode":"JUPYTER",
   "package_manager":"pip",
   "base_environment":"default",
   "packages":[
    
   ]
  }
 },
 "nbformat":4,
 "nbformat_minor":4
}